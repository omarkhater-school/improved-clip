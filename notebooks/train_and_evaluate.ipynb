{
 "cells": [
  {
   "cell_type": "markdown",
   "metadata": {
    "id": "cwwBXvIbUXA_"
   },
   "source": [
    "# Contrastive Language-Image Pretraining with SogCLR"
   ]
  },
  {
   "cell_type": "markdown",
   "metadata": {
    "id": "kVyLXcCiUkeF"
   },
   "source": [
    "### **Introduction**\n",
    "\n",
    "In this tutorial, you will learn how to conduct contrastive language-image pretraining by optimizing the [Global Contrastive Loss](https://arxiv.org/abs/2202.12387) (GCL) on a subset of the [Conceptual Captions](https://ai.google.com/research/ConceptualCaptions/) dataset. Also, you will learn how to evaluate the model on retrieval task using the [MSCOCO](https://cocodataset.org/#home) dataset and zero-shot classification task using the [ImageNet](https://www.image-net.org/challenges/LSVRC/index.php) dataset. The code is based on [iSogCLR's](https://github.com/zhqiu/contrastive-learning-iSogCLR) codebase, which includes the implementation of CLIP, SogCLR and iSogCLR."
   ]
  },
  {
   "cell_type": "markdown",
   "metadata": {
    "id": "DsO954DCVdgn"
   },
   "source": [
    "### Preparation\n",
    "\n",
    "First, we:\n",
    "\n",
    "1. Download the source code and data\n",
    "2. Install required packages"
   ]
  },
  {
   "cell_type": "code",
   "execution_count": 3,
   "metadata": {},
   "outputs": [
    {
     "name": "stdout",
     "output_type": "stream",
     "text": [
      "\u001b[31mERROR: pip's dependency resolver does not currently take into account all the packages that are installed. This behaviour is the source of the following dependency conflicts.\n",
      "autovizwidget 0.21.0 requires pandas<2.0.0,>=0.20.1, but you have pandas 2.1.1 which is incompatible.\n",
      "hdijupyterutils 0.21.0 requires pandas<2.0.0,>=0.17.1, but you have pandas 2.1.1 which is incompatible.\n",
      "sparkmagic 0.21.0 requires pandas<2.0.0,>=0.17.1, but you have pandas 2.1.1 which is incompatible.\u001b[0m\u001b[31m\n",
      "\u001b[0m"
     ]
    }
   ],
   "source": [
    "! pip install -r ../requirements.txt --quiet"
   ]
  },
  {
   "cell_type": "markdown",
   "metadata": {
    "id": "11x28L3vV2od"
   },
   "source": [
    "### Training\n",
    "\n",
    "The following command runs the training script to train a ResNet50 (pretrained on ImageNet) and a DistilBERT (pretrained on BookCorpus and English Wikipedia) on the cc3m dataset using the SogCLR loss for 30 epochs with temperature 0.01."
   ]
  },
  {
   "cell_type": "code",
   "execution_count": 26,
   "metadata": {
    "id": "I4BjOwHiWP2u"
   },
   "outputs": [
    {
     "name": "stdout",
     "output_type": "stream",
     "text": [
      "***\n",
      "Creating retrieval dataset\n",
      "***\n",
      "len of train_dataset: 100000\n",
      "len of validation dataset: 5000\n",
      "***\n",
      "Creating model\n",
      "***\n",
      "Cosine annealing scheduler will have no effect on the learning rate since t_initial = t_mul = eta_mul = 1.\n",
      "Start training\n",
      "Train Epoch: [0]: 100%|█| 781/781 [08:49<00:00,  1.48it/s, loss_ita=0.0104, lr=0\n",
      "Averaged stats: lr: 0.0001  lr_temp_net: 0.0000  loss_ita: 0.0228  avg_image_tau: 0.0000  avg_text_tau: 0.0000  cur_eta: 0.0000  grad_tau_image: 0.0000  grad_tau_text: 0.0000  b_I: 0.0000  b_T: 0.0000  v: 0.0000  lamda: 0.0000  weights_image_pos: 0.0000  weights_text_pos: 0.0000\n",
      "Training time: 0:08:53\n",
      "Traceback (most recent call last):\n",
      "  File \"/home/ec2-user/SageMaker/improved-clip/notebooks/../main.py\", line 192, in <module>\n",
      "    train_stats = run_pipeline(args)\n",
      "  File \"/home/ec2-user/SageMaker/improved-clip/notebooks/../main.py\", line 96, in run_pipeline\n",
      "    return train_stats\n",
      "NameError: name 'train_stats' is not defined\n"
     ]
    }
   ],
   "source": [
    "!python ../main.py \\\n",
    "    --data_path ../../datasets  \\\n",
    "    --ann_path ../../datasets/clip_train \\\n",
    "    --train_file cc3m_train_subset.json \\\n",
    "    --train_image_root cc3m_subset_100k \\\n",
    "    --output_dir ../../output/sogclr_cc3m_g0.8_e30 \\\n",
    "    --init_model \\\n",
    "    --use_amp \\\n",
    "    --ita_type sogclr \\\n",
    "    --tau_init 0.01 \\\n",
    "    --sogclr_gamma 0.8 \\\n",
    "    --eta_init 0.03 --sched cosine \\\n",
    "    --no-distributed \\\n",
    "    --device cuda \\\n",
    "    --val_frequency 5 \\\n",
    "    --step_size_per_epoch 200 \\\n",
    "    --print_freq_per_epoch 100 \\\n",
    "    --epochs 1"
   ]
  },
  {
   "cell_type": "markdown",
   "metadata": {
    "id": "kmCh9QFuWx-t"
   },
   "source": [
    "### Evaluation\n",
    "\n",
    "The following command runs the evaluation script to evaluate the retrieval performance of the trained model on the MSCOCO validation dataset and the zero-shot classification performance on the ImageNet validation dataset. The evaluation command is obtained by appending `--evaluate --checkpoint /path/to/your/checkpoint --zs_dataset imagenet --zs_datafolder /path/to/imagenet/val` to the training command."
   ]
  },
  {
   "cell_type": "code",
   "execution_count": null,
   "metadata": {
    "id": "OdSq-cQwoork"
   },
   "outputs": [
    {
     "name": "stdout",
     "output_type": "stream",
     "text": [
      "***\n",
      "Creating retrieval dataset\n",
      "***\n",
      "len of train_dataset: 100000\n",
      "len of validation dataset: 5000\n",
      "***\n",
      "Creating model\n",
      "***\n",
      "load checkpoint from ../../output/sogclr_cc3m_g0.8_e30/checkpoint_1.pth\n",
      "Cosine annealing scheduler will have no effect on the learning rate since t_initial = t_mul = eta_mul = 1.\n",
      "Start training\n",
      "Training time: 0:00:00\n",
      "***\n",
      "Starting evaluation\n",
      "***\n",
      "Computing features for evaluation...\n",
      "Model Retrieval Evaluation time 0:00:49\n",
      "Validation results: {'txt_r1': 7.06, 'txt_r5': 20.62, 'txt_r10': 30.62, 'txt_r_mean': 19.433333333333334, 'img_r1': 4.234475588788036, 'img_r5': 13.779039545763526, 'img_r10': 21.520252709024753, 'img_r_mean': 13.177922614525437, 'r_mean': 16.305627973929386}\n",
      "starting zeroshot transfer...\n"
     ]
    }
   ],
   "source": [
    "!python ../main.py \\\n",
    "    --data_path ../../datasets  \\\n",
    "    --ann_path ../../datasets/clip_train \\\n",
    "    --train_file cc3m_train_subset.json \\\n",
    "    --train_image_root cc3m_subset_100k \\\n",
    "    --output_dir output/isogclr_cc3m_g0.8_e30 \\\n",
    "    --init_model \\\n",
    "    --use_amp \\\n",
    "    --ita_type sogclr \\\n",
    "    --tau_init 0.01 \\\n",
    "    --sogclr_gamma 0.8 \\\n",
    "    --eta_init 0.03 --sched cosine \\\n",
    "    --no-distributed \\\n",
    "    --epochs 1 \\\n",
    "    --evaluate --checkpoint '../../output/sogclr_cc3m_g0.8_e30/checkpoint_1.pth' \\\n",
    "    --zs_dataset imagenet --zs_datafolder ../../datasets/imagenet/val"
   ]
  },
  {
   "cell_type": "markdown",
   "metadata": {
    "id": "B4tw47loXXPK"
   },
   "source": [
    "### Benchmarks\n",
    "\n",
    "The following results are recall at 1 results on the provided MSCOCO and ImageNet datasets. The first row of results are from the model trained using the CLIP loss, and the second row of results are from the model trained using the SogCLR loss. All results are based on a batch size of 128 for 30-epoch pretraining. IR@1 denotes the recall at 1 of image retrieval on MSCOCO, TR@1 denotes the recall at 1 of text retrieval on MSCOCO, and ACC@1 denotes the top 1 accuracy on ImageNet. Average denotes the average of the three metrics.\n",
    "\n",
    "| Method | MSCOCO TR@1 | MSCOCO IR@1 | ImageNet ACC@1 | Average |\n",
    "|:----------:|:--------:|:--------:|:--------:|:--------:|\n",
    "| CLIP | 12.0 | 9.32 | 21.35 | 14.22 |\n",
    "| SogCLR |  14.38  |  10.73  | 24.54 | 16.55 |"
   ]
  }
 ],
 "metadata": {
  "accelerator": "GPU",
  "colab": {
   "gpuType": "T4",
   "provenance": []
  },
  "kernelspec": {
   "display_name": "conda_pytorch_p310",
   "language": "python",
   "name": "conda_pytorch_p310"
  },
  "language_info": {
   "codemirror_mode": {
    "name": "ipython",
    "version": 3
   },
   "file_extension": ".py",
   "mimetype": "text/x-python",
   "name": "python",
   "nbconvert_exporter": "python",
   "pygments_lexer": "ipython3",
   "version": "3.10.14"
  }
 },
 "nbformat": 4,
 "nbformat_minor": 4
}
