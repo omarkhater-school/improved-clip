{
 "cells": [
  {
   "cell_type": "code",
   "execution_count": 2,
   "id": "afc07a27-e38b-4c6a-8b3a-0cddee7c9d94",
   "metadata": {},
   "outputs": [
    {
     "name": "stdout",
     "output_type": "stream",
     "text": [
      "sagemaker.config INFO - Not applying SDK defaults from location: /etc/xdg/sagemaker/config.yaml\n",
      "sagemaker.config INFO - Not applying SDK defaults from location: /home/ec2-user/.config/sagemaker/config.yaml\n"
     ]
    }
   ],
   "source": [
    "!python train_sagemaker.py \\\n",
    "    --job_name my-clip-training-job \\\n",
    "    --entry_point main.py \\\n",
    "    --source_dir . \\\n",
    "    --config_file ./config.json"
   ]
  },
  {
   "cell_type": "code",
   "execution_count": null,
   "id": "6fe565e8-062e-4a00-9c36-2020006ccd06",
   "metadata": {},
   "outputs": [],
   "source": []
  }
 ],
 "metadata": {
  "kernelspec": {
   "display_name": "conda_python3",
   "language": "python",
   "name": "conda_python3"
  },
  "language_info": {
   "codemirror_mode": {
    "name": "ipython",
    "version": 3
   },
   "file_extension": ".py",
   "mimetype": "text/x-python",
   "name": "python",
   "nbconvert_exporter": "python",
   "pygments_lexer": "ipython3",
   "version": "3.10.15"
  }
 },
 "nbformat": 4,
 "nbformat_minor": 5
}
