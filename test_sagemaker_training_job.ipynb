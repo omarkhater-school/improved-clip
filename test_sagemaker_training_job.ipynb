{
 "cells": [
  {
   "cell_type": "code",
   "execution_count": null,
   "id": "afc07a27-e38b-4c6a-8b3a-0cddee7c9d94",
   "metadata": {},
   "outputs": [
    {
     "name": "stdout",
     "output_type": "stream",
     "text": [
      "[11/22/24 08:54:35] INFO     Found credentials in shared    credentials.py:1278"
     ]
    },
    {
     "name": "stderr",
     "output_type": "stream",
     "text": [
      "d:\\projects\\improved-clip\\src\\.venv\\lib\\site-packages\\pydantic\\_internal\\_fields.py:192: UserWarning: Field name \"json\" in \"MonitoringDatasetFormat\" shadows an attribute in parent \"Base\"\n",
      "  warnings.warn(\n"
     ]
    },
    {
     "name": "stdout",
     "output_type": "stream",
     "text": [
      "\n",
      "                             credentials file:                                 \n",
      "                             ~/.aws/credentials                                \n",
      "sagemaker.config INFO - Not applying SDK defaults from location: C:\\ProgramData\\sagemaker\\sagemaker\\config.yaml\n",
      "sagemaker.config INFO - Not applying SDK defaults from location: C:\\Users\\Omar\\AppData\\Local\\sagemaker\\sagemaker\\config.yaml\n",
      "[11/22/24 08:54:40] INFO     Found credentials in           credentials.py:1147\n",
      "                             environment variables.                            \n",
      "                    INFO     Found credentials in           credentials.py:1147\n",
      "                             environment variables.                            \n",
      "[11/22/24 08:54:44] INFO     image_uri is not presented,      image_uris.py:674\n",
      "                             retrieving image_uri based on                     \n",
      "                             instance_type, framework etc.                     \n",
      "                    INFO     Creating training-job with name:   session.py:1042\n",
      "                             my-clip-training-job-2024-11-22-14                \n",
      "                             -54-40-832                                        \n"
     ]
    }
   ],
   "source": [
    "!python train_sagemaker.py \\\n",
    "    --job_name my-clip-training-job \\\n",
    "    --entry_point main.py \\\n",
    "    --source_dir . \\\n",
    "    --instance_type ml.g5.4xlarge \\\n",
    "    --use_spot \\\n",
    "    --max_wait 36000 \\\n",
    "    --config_file ./config.json"
   ]
  },
  {
   "cell_type": "code",
   "execution_count": null,
   "id": "6fe565e8-062e-4a00-9c36-2020006ccd06",
   "metadata": {},
   "outputs": [],
   "source": []
  }
 ],
 "metadata": {
  "kernelspec": {
   "display_name": ".venv",
   "language": "python",
   "name": "python3"
  },
  "language_info": {
   "codemirror_mode": {
    "name": "ipython",
    "version": 3
   },
   "file_extension": ".py",
   "mimetype": "text/x-python",
   "name": "python",
   "nbconvert_exporter": "python",
   "pygments_lexer": "ipython3",
   "version": "3.10.0rc2"
  }
 },
 "nbformat": 4,
 "nbformat_minor": 5
}
